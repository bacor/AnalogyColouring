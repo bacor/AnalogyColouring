{
 "cells": [
  {
   "cell_type": "code",
   "execution_count": null,
   "metadata": {
    "collapsed": false
   },
   "outputs": [],
   "source": [
    "%load_ext autoreload\n",
    "%autoreload 2"
   ]
  },
  {
   "cell_type": "code",
   "execution_count": null,
   "metadata": {
    "collapsed": false
   },
   "outputs": [],
   "source": [
    "import pandas as pd\n",
    "import numpy as np\n",
    "import json\n",
    "from helpers import *\n",
    "import matplotlib.pyplot as plt\n",
    "%matplotlib inline\n",
    "plt.style.use('ggplot')\n",
    "import itertools\n",
    "codeToggler()"
   ]
  },
  {
   "cell_type": "code",
   "execution_count": null,
   "metadata": {
    "collapsed": false
   },
   "outputs": [],
   "source": [
    "(df, survey, objNames, trial_types) = loadData()"
   ]
  },
  {
   "cell_type": "markdown",
   "metadata": {},
   "source": [
    "# Some demographic statistics"
   ]
  },
  {
   "cell_type": "code",
   "execution_count": null,
   "metadata": {
    "collapsed": false
   },
   "outputs": [],
   "source": [
    "print 'Age mean:', round(survey['age'].std(), 2)\n",
    "print 'Age sdev:', round(survey['age'].mean(), 2), '\\n'\n",
    "\n",
    "print 'AQ mean:', round(survey['AQ_score'].std(), 2)\n",
    "print 'AQ sdev:', round(survey['AQ_score'].mean(), 2), '\\n'\n",
    "\n",
    "print 'Number of subjects:', len(survey.drop_duplicates('subject_id')['subject_id'].unique())"
   ]
  },
  {
   "cell_type": "code",
   "execution_count": null,
   "metadata": {
    "collapsed": false
   },
   "outputs": [],
   "source": [
    "plt.rcParams.update({'font.size': 8})\n",
    "fig, axes = plt.subplots(nrows=1, ncols=2, figsize=(5,1.8))\n",
    "\n",
    "# Age\n",
    "survey['age'].plot(kind='hist', ax=axes[0], yticks=range(0,70,10))\n",
    "axes[0].set_ylabel('')\n",
    "axes[0].set_title('Age frequencies', y=1.08)\n",
    "\n",
    "# AQ\n",
    "survey['AQ_score'].plot(kind='hist', ax=axes[1], yticks=range(0,30,5), title='AQ score frequencies')\n",
    "axes[1].set_title('AQ score frequencies', y=1.08)\n",
    "axes[1].set_ylabel('')\n",
    "\n",
    "plt.tight_layout()\n",
    "# plt.savefig('exports/demographics.png', format='png', dpi=300)"
   ]
  },
  {
   "cell_type": "markdown",
   "metadata": {},
   "source": [
    "# The number of analogies"
   ]
  },
  {
   "cell_type": "code",
   "execution_count": null,
   "metadata": {
    "collapsed": false
   },
   "outputs": [],
   "source": [
    "numObj = []\n",
    "for key, val in objNames.items():\n",
    "    if key[-1] == '2':\n",
    "        numObj += [len(val)]\n",
    "\n",
    "boxplot_df = df.reset_index().pivot_table(index='trial_id', columns=['trial_type'], values='num_analogies')\n",
    "boxplot_df = boxplot_df.div(numObj, axis='columns')\n",
    "boxplot_df.plot(kind='box', figsize=(7,4), ylim=(-.2,1.3));"
   ]
  }
 ],
 "metadata": {
  "kernelspec": {
   "display_name": "Python 2",
   "language": "python",
   "name": "python2"
  },
  "language_info": {
   "codemirror_mode": {
    "name": "ipython",
    "version": 2
   },
   "file_extension": ".py",
   "mimetype": "text/x-python",
   "name": "python",
   "nbconvert_exporter": "python",
   "pygments_lexer": "ipython2",
   "version": "2.7.10"
  }
 },
 "nbformat": 4,
 "nbformat_minor": 0
}
