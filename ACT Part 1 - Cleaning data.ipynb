{
 "cells": [
  {
   "cell_type": "code",
   "execution_count": null,
   "metadata": {
    "collapsed": false
   },
   "outputs": [],
   "source": [
    "%load_ext autoreload\n",
    "%autoreload 2"
   ]
  },
  {
   "cell_type": "code",
   "execution_count": null,
   "metadata": {
    "collapsed": false
   },
   "outputs": [],
   "source": [
    "import pandas as pd\n",
    "import numpy as np\n",
    "import json\n",
    "from helpers import *"
   ]
  },
  {
   "cell_type": "markdown",
   "metadata": {},
   "source": [
    "# Load data"
   ]
  },
  {
   "cell_type": "code",
   "execution_count": null,
   "metadata": {
    "collapsed": false
   },
   "outputs": [],
   "source": [
    "# Load Data\n",
    "with open('data/data.json') as file:\n",
    "    setup_data = json.load(file)\n",
    "    \n",
    "with open('data/trials-09-11.json') as file:\n",
    "    trials = json.load(file)  \n",
    "\n",
    "with open('data/survey-09-11.json') as file:\n",
    "    survey = json.load(file)\n",
    "                       \n",
    "survey = pd.DataFrame(survey)\n",
    "survey = survey.set_index('survey_id').drop_duplicates()"
   ]
  },
  {
   "cell_type": "markdown",
   "metadata": {},
   "source": [
    "# Preprocess objects"
   ]
  },
  {
   "cell_type": "code",
   "execution_count": null,
   "metadata": {
    "collapsed": true
   },
   "outputs": [],
   "source": [
    "# Store object names per image\n",
    "objNames = {}\n",
    "for picture, picData in setup_data.items():\n",
    "    if picture not in objNames.keys():\n",
    "        objNames[picture] = []\n",
    "    \n",
    "    if picture == 'MHC2':\n",
    "        for i, obj in enumerate(picData['objects']):\n",
    "            if obj['id'] == 2:\n",
    "                obj['desc'] = 'Cat'\n",
    "                \n",
    "    for obj in picData['objects']:\n",
    "        objNames[picture] += [obj['desc']]"
   ]
  },
  {
   "cell_type": "markdown",
   "metadata": {},
   "source": [
    "# Preprocess the trials"
   ]
  },
  {
   "cell_type": "code",
   "execution_count": null,
   "metadata": {
    "collapsed": false
   },
   "outputs": [],
   "source": [
    "preprocessed_trials = []\n",
    "for trial in trials:\n",
    "    results = json.loads(trial['results'])\n",
    "\n",
    "    # Start from scratch\n",
    "    analogies = ['' for i in range(len(objNames[results['test']]))]\n",
    "    \n",
    "    ## Fix an error:\n",
    "    # in MHC2, the object discription 'Bush' is used twice.\n",
    "    # Luckily, the id's are unique, so we replace the description \n",
    "    # of objects with id 2 by 'cat'\n",
    "    if results['test'] == 'MHC2':\n",
    "        for i, a in enumerate(results['analogies']):\n",
    "            if a['id'] == 2:\n",
    "                a['desc'] = 'Cat'\n",
    "                \n",
    "    # Analogy A_u(t)\n",
    "    for a in results['analogies']:\n",
    "        testIndex = objNames[results['test']].index(a['desc'])\n",
    "        try:\n",
    "            instrIndex = objNames[results['instruction']].index(a['analogDesc'])\n",
    "            analogies[testIndex] = instrIndex\n",
    "        except ValueError:\n",
    "            analogies[testIndex] = ''\n",
    "            \n",
    "    preprocessed_trials +=[{\n",
    "        'analogies': analogies,\n",
    "        'num_analogies': results['num_analogies'],\n",
    "        'instruction': results['instruction'],\n",
    "        'test': results['test'],\n",
    "        'trial_id': trial['trial_id'],\n",
    "        'subject_id': trial['subject_id'],\n",
    "        'timestamp': trial['timestamp'],\n",
    "        'trial_number': trial['trial_number']\n",
    "    }]\n",
    "\n",
    "df = pd.DataFrame(preprocessed_trials).sort('timestamp').set_index('trial_id')\n",
    "df['num_analogies'] = df['num_analogies'].astype(int)\n",
    "df['trial_number'] = df['trial_number'].astype(int)\n",
    "df['subject_id'] = df['subject_id'].astype(int)\n",
    "df['trial_type'] = df['instruction'].str[:-1]\n",
    "df['timestamp'] = pd.to_datetime(df['timestamp'])\n",
    "\n",
    "# Drop all duplicates\n",
    "df = df.drop_duplicates(subset=['subject_id', 'trial_number', 'trial_type'])"
   ]
  },
  {
   "cell_type": "code",
   "execution_count": null,
   "metadata": {
    "collapsed": true
   },
   "outputs": [],
   "source": [
    "# Due to an error different subjects have been assigned the same id's\n",
    "# fortunately, we recorded the timestamp and can thus distinguish\n",
    "# the two subjects. The latests tests are reindexed by former_id + 1000\n",
    "for subject_id in df['subject_id'].unique():\n",
    "    for trial_number in df['trial_number'].unique():\n",
    "        \n",
    "        # Search for duplicates\n",
    "        dupl = df[(df['subject_id'] == subject_id) & (df['trial_number'] == trial_number)]\n",
    "                \n",
    "        if len(dupl) > 1:\n",
    "            if list(dupl['timestamp'])[0] >= list(dupl['timestamp'])[1]:\n",
    "                print('Error: identical time')\n",
    "                print(dupl)\n",
    "            else:\n",
    "                df.loc[dupl.index[1],'subject_id'] += 1000\n",
    "                \n",
    "                # Fix survey id's\n",
    "                survey_dupl = survey[survey['subject_id'] == subject_id]\n",
    "                try:\n",
    "                    survey.loc[survey_dupl.index[1], 'subject_id'] += 1000\n",
    "                except:\n",
    "                    continue"
   ]
  },
  {
   "cell_type": "code",
   "execution_count": null,
   "metadata": {
    "collapsed": true
   },
   "outputs": [],
   "source": [
    "# Remove all noncomplete trials\n",
    "incompletes = []\n",
    "for subject_id in df['subject_id'].unique():\n",
    "    test = df[df['subject_id'] == subject_id]\n",
    "    if len(test) != 8:\n",
    "        incompletes += [subject_id]\n",
    "\n",
    "# Only store complete responses.\n",
    "valid_ids = [i for i in survey['subject_id'].unique() \n",
    "             if i not in incompletes \n",
    "             and i in df['subject_id'].unique()]\n",
    "\n",
    "df = df[df['subject_id'].isin(valid_ids)]\n",
    "survey = survey[survey['subject_id'].isin(valid_ids)]\n",
    "survey = survey.drop_duplicates('subject_id')"
   ]
  },
  {
   "cell_type": "markdown",
   "metadata": {},
   "source": [
    "# Export"
   ]
  },
  {
   "cell_type": "code",
   "execution_count": null,
   "metadata": {
    "collapsed": false
   },
   "outputs": [],
   "source": [
    "survey.reset_index().to_json('data/survey-preprocessed.json')\n",
    "df.reset_index().to_json('data/trials-preprocessed.json')\n",
    "\n",
    "with open('data/objNames.json', 'w') as file:\n",
    "    json.dump(objNames, file)"
   ]
  },
  {
   "cell_type": "code",
   "execution_count": null,
   "metadata": {
    "collapsed": true
   },
   "outputs": [],
   "source": []
  }
 ],
 "metadata": {
  "kernelspec": {
   "display_name": "Python 2",
   "language": "python",
   "name": "python2"
  },
  "language_info": {
   "codemirror_mode": {
    "name": "ipython",
    "version": 2
   },
   "file_extension": ".py",
   "mimetype": "text/x-python",
   "name": "python",
   "nbconvert_exporter": "python",
   "pygments_lexer": "ipython2",
   "version": "2.7.10"
  }
 },
 "nbformat": 4,
 "nbformat_minor": 0
}
