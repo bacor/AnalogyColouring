{
 "cells": [
  {
   "cell_type": "code",
   "execution_count": null,
   "metadata": {
    "collapsed": false
   },
   "outputs": [],
   "source": [
    "%load_ext autoreload\n",
    "%autoreload 2"
   ]
  },
  {
   "cell_type": "code",
   "execution_count": null,
   "metadata": {
    "collapsed": false
   },
   "outputs": [],
   "source": [
    "import pandas as pd\n",
    "import numpy as np\n",
    "import json\n",
    "from helpers import *\n",
    "import matplotlib.pyplot as plt\n",
    "%matplotlib inline\n",
    "plt.style.use('ggplot')\n",
    "plt.rcParams.update({'font.size': 8})\n",
    "import itertools\n",
    "import brewer2mlp\n",
    "codeToggler()"
   ]
  },
  {
   "cell_type": "code",
   "execution_count": null,
   "metadata": {
    "collapsed": false
   },
   "outputs": [],
   "source": [
    "(df, survey, objNames, trial_types) = loadData()"
   ]
  },
  {
   "cell_type": "code",
   "execution_count": null,
   "metadata": {
    "collapsed": false
   },
   "outputs": [],
   "source": [
    "# Frequencies of different analogies for one picture\n",
    "A = df[df['trial_type'] == 'KA']['analogies']\n",
    "uniques = {}\n",
    "for a in list(A):\n",
    "    if json.dumps(a) not in uniques.keys():\n",
    "        uniques[json.dumps(a)] = 1\n",
    "    else:\n",
    "        uniques[json.dumps(a)] += 1\n",
    "        \n",
    "        \n",
    "pd.Series(uniques).plot(kind='barh', figsize=(4,2.8));\n",
    "plt.title('Frequencies of different analogies', y=1.08);\n",
    "plt.xlabel('frequency');\n",
    "plt.tight_layout()\n",
    "\n",
    "# Save plot\n",
    "plt.savefig('exports/analogy-frequencies.png', format='png', dpi=300)"
   ]
  },
  {
   "cell_type": "markdown",
   "metadata": {},
   "source": [
    "# Inspect one trial in detail"
   ]
  },
  {
   "cell_type": "code",
   "execution_count": null,
   "metadata": {
    "collapsed": false
   },
   "outputs": [],
   "source": [
    "instruction='KA1'\n",
    "test='KA2'\n",
    "bmap = brewer2mpl.get_map('Set2', 'qualitative', len(objNames[instruction]), reverse=True)\n",
    "colors = bmap.mpl_colors + [(.75,.75,.75)]\n",
    "\n",
    "p = getAnalogyLikelihoods(instruction, test, df, objNames)\n",
    "p.plot(kind='barh', stacked=True, figsize=(5, .4 * len(p)), color=colors)\n",
    "legend = plt.legend(bbox_to_anchor=(1.05,1.05), loc='upper left')\n",
    "legend.get_frame().set_color('white')\n",
    "\n",
    "# Save plot\n",
    "# plt.savefig('exports/correspondence-probability.png', format='png', dpi=300,\n",
    "#     bbox_extra_artists=(legend,), bbox_inches='tight')"
   ]
  },
  {
   "cell_type": "markdown",
   "metadata": {},
   "source": [
    "# Inspect all trials"
   ]
  },
  {
   "cell_type": "code",
   "execution_count": null,
   "metadata": {
    "collapsed": true
   },
   "outputs": [],
   "source": [
    "for trial_type in trial_types:  \n",
    "    analyzeTrial(trial_type[0], trial_type[1], df, objNames)"
   ]
  },
  {
   "cell_type": "markdown",
   "metadata": {},
   "source": [
    "# Is there disagreement?"
   ]
  },
  {
   "cell_type": "code",
   "execution_count": null,
   "metadata": {
    "collapsed": false
   },
   "outputs": [],
   "source": [
    "EHs = []\n",
    "index = []\n",
    "for trial_type in trial_types:\n",
    "    index += [trial_type[0][:-1]]\n",
    "    EHs += [averageEntropy(trial_type[0], trial_type[1], df, objNames)] "
   ]
  },
  {
   "cell_type": "code",
   "execution_count": null,
   "metadata": {
    "collapsed": false
   },
   "outputs": [],
   "source": [
    "pd.Series(EHs, index=index).plot(kind='barh', figsize=(4.5,3.5));\n",
    "plt.title('Average entropy per trial', y=1.08);\n",
    "plt.xlabel('Average entropy');\n",
    "plt.tight_layout()\n",
    "plt.savefig('exports/average-entropy.png', format='png', dpi=300)"
   ]
  }
 ],
 "metadata": {
  "kernelspec": {
   "display_name": "Python 2",
   "language": "python",
   "name": "python2"
  },
  "language_info": {
   "codemirror_mode": {
    "name": "ipython",
    "version": 2
   },
   "file_extension": ".py",
   "mimetype": "text/x-python",
   "name": "python",
   "nbconvert_exporter": "python",
   "pygments_lexer": "ipython2",
   "version": "2.7.10"
  }
 },
 "nbformat": 4,
 "nbformat_minor": 0
}
