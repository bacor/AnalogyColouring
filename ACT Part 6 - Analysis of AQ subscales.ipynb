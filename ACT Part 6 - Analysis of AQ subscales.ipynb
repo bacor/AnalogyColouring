{
 "cells": [
  {
   "cell_type": "code",
   "execution_count": null,
   "metadata": {
    "collapsed": false
   },
   "outputs": [],
   "source": [
    "%load_ext autoreload\n",
    "%autoreload 2"
   ]
  },
  {
   "cell_type": "code",
   "execution_count": null,
   "metadata": {
    "collapsed": false
   },
   "outputs": [],
   "source": [
    "import pandas as pd\n",
    "import numpy as np\n",
    "import json\n",
    "from helpers import *\n",
    "import matplotlib.pyplot as plt\n",
    "from scipy import stats\n",
    "%matplotlib inline\n",
    "plt.style.use('ggplot')\n",
    "plt.rcParams.update({'font.size': 8})\n",
    "import itertools\n",
    "codeToggler()"
   ]
  },
  {
   "cell_type": "code",
   "execution_count": null,
   "metadata": {
    "collapsed": false
   },
   "outputs": [],
   "source": [
    "(df, survey, objNames, trial_types) = loadData()\n",
    "df = pd.read_json('data/trials-with-scores.json')"
   ]
  },
  {
   "cell_type": "markdown",
   "metadata": {},
   "source": [
    "# Is there an effect of AQ score?"
   ]
  },
  {
   "cell_type": "code",
   "execution_count": null,
   "metadata": {
    "collapsed": true
   },
   "outputs": [],
   "source": [
    "aqs = []\n",
    "for subject_id in df['subject_id']:\n",
    "    aq = survey[survey['subject_id'] == subject_id]\n",
    "    if(len(aq) != 0):\n",
    "        aqs += [aq.iloc[0,:]['AQ_score']]\n",
    "    else:\n",
    "        print(aq)\n",
    "        aqs += [0]\n",
    "        \n",
    "df['AQ_score'] = aqs"
   ]
  },
  {
   "cell_type": "code",
   "execution_count": null,
   "metadata": {
    "collapsed": false
   },
   "outputs": [],
   "source": [
    "subscales = []\n",
    "for i, response in survey.iterrows():\n",
    "    selections = json.loads(response['AQ_selections'])\n",
    "    __df = pd.DataFrame([(int(q), s) for q, s in selections.iteritems()], columns=['question', 'selection'])\n",
    "    __df = __df.sort_values(by='question').set_index('question')\n",
    "    __df['points'] = AQPoints(__df['selection'])\n",
    "    subscales += [AQSubscaleScores(__df['points'])]"
   ]
  },
  {
   "cell_type": "code",
   "execution_count": null,
   "metadata": {
    "collapsed": false
   },
   "outputs": [],
   "source": [
    "__df = pd.DataFrame(subscales)\n",
    "survey = survey.reset_index()\n",
    "for col in __df.columns:\n",
    "    survey[col] = __df[col]\n",
    "survey = survey.set_index('survey_id')"
   ]
  },
  {
   "cell_type": "code",
   "execution_count": null,
   "metadata": {
    "collapsed": false
   },
   "outputs": [],
   "source": [
    "# survey.to_json('data/survey-with-subscales.json')"
   ]
  },
  {
   "cell_type": "code",
   "execution_count": null,
   "metadata": {
    "collapsed": false
   },
   "outputs": [],
   "source": [
    "# Add subscales to df\n",
    "for subscale in ['attention_switching','communication','detail','imagination','social']:\n",
    "    values = []\n",
    "    for subject_id in df['subject_id']:\n",
    "        part = survey[survey['subject_id'] == subject_id]\n",
    "        if(len(part) != 0):\n",
    "            values += [part.iloc[0,:][subscale]]\n",
    "        else:\n",
    "            print(aq)\n",
    "            values += [0]\n",
    "\n",
    "    df[subscale] = values"
   ]
  },
  {
   "cell_type": "code",
   "execution_count": null,
   "metadata": {
    "collapsed": false
   },
   "outputs": [],
   "source": [
    "for subscale in ['attention_switching','communication','detail','imagination','social']:    \n",
    "    __df = df.groupby('subject_id').mean()[['analogy_score', subscale]].sort_values(by=subscale)\n",
    "    __df[__df['analogy_score'] < 3].plot(kind='scatter', x=subscale, y='analogy_score', \n",
    "                                        figsize=(4.5,2.5), yticks=[0,.5,1,1.5,2])\n",
    "\n",
    "    plt.ylabel('Experiment score')\n",
    "    plt.xlabel('AQ subscale %s' % subscale.replace('_', ' '));\n",
    "\n",
    "    # Title\n",
    "    plt.title('AQ subscale %s and experiment score' % subscale, y=1.08);\n",
    "\n",
    "    # Save plot\n",
    "    plt.tight_layout()\n",
    "    plt.show()\n",
    "    \n",
    "    print('Spearman correlation:')\n",
    "    print(stats.spearmanr(__df['analogy_score'], __df[subscale]))"
   ]
  }
 ],
 "metadata": {
  "kernelspec": {
   "display_name": "Python 2",
   "language": "python",
   "name": "python2"
  },
  "language_info": {
   "codemirror_mode": {
    "name": "ipython",
    "version": 2
   },
   "file_extension": ".py",
   "mimetype": "text/x-python",
   "name": "python",
   "nbconvert_exporter": "python",
   "pygments_lexer": "ipython2",
   "version": "2.7.10"
  }
 },
 "nbformat": 4,
 "nbformat_minor": 0
}
