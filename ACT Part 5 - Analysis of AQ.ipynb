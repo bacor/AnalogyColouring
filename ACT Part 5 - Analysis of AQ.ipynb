{
 "cells": [
  {
   "cell_type": "code",
   "execution_count": null,
   "metadata": {
    "collapsed": false
   },
   "outputs": [],
   "source": [
    "%load_ext autoreload\n",
    "%autoreload 2"
   ]
  },
  {
   "cell_type": "code",
   "execution_count": null,
   "metadata": {
    "collapsed": false
   },
   "outputs": [],
   "source": [
    "import pandas as pd\n",
    "import numpy as np\n",
    "import json\n",
    "from helpers import *\n",
    "import matplotlib.pyplot as plt\n",
    "from scipy import stats\n",
    "%matplotlib inline\n",
    "plt.style.use('ggplot')\n",
    "plt.rcParams.update({'font.size': 8})\n",
    "import itertools\n",
    "codeToggler()"
   ]
  },
  {
   "cell_type": "code",
   "execution_count": null,
   "metadata": {
    "collapsed": false
   },
   "outputs": [],
   "source": [
    "(df, survey, objNames, trial_types) = loadData()\n",
    "df = pd.read_json('data/trials-with-scores.json')"
   ]
  },
  {
   "cell_type": "markdown",
   "metadata": {},
   "source": [
    "# Is there an effect of AQ score?"
   ]
  },
  {
   "cell_type": "code",
   "execution_count": null,
   "metadata": {
    "collapsed": false
   },
   "outputs": [],
   "source": [
    "aqs = []\n",
    "for subject_id in df['subject_id']:\n",
    "    aq = survey[survey['subject_id'] == subject_id]\n",
    "    if(len(aq) != 0):\n",
    "        aqs += [aq.iloc[0,:]['AQ_score']]\n",
    "    else:\n",
    "        print(aq)\n",
    "        aqs += [0]\n",
    "        \n",
    "df['AQ_score'] = aqs"
   ]
  },
  {
   "cell_type": "code",
   "execution_count": null,
   "metadata": {
    "collapsed": false
   },
   "outputs": [],
   "source": [
    "AQvsScore = df.groupby('subject_id').mean()[['analogy_score', 'AQ_score']].sort_values(by='AQ_score')\n",
    "# slope, intercept, r_value, p_value, std_err = stats.linregress(AQvsScore['AQ_score'], AQvsScore['analogy_score'])\n",
    "# slope, intercept, r_value, p_value, std_err"
   ]
  },
  {
   "cell_type": "code",
   "execution_count": null,
   "metadata": {
    "collapsed": false
   },
   "outputs": [],
   "source": [
    "AQvsScore[AQvsScore['analogy_score'] < 3].plot(kind='scatter', x='AQ_score', y='analogy_score', \n",
    "                                               figsize=(5,3), yticks=[0,.5,1,1.5,2])\n",
    "plt.ylabel('Experiment score')\n",
    "plt.xlabel('AQ score');\n",
    "plt.ylim(.2,2)\n",
    "\n",
    "# To show the best linear fit\n",
    "# plt.plot(np.linspace(1,34,100), np.linspace(0,35,100)*slope + intercept)\n",
    "\n",
    "# Title\n",
    "plt.title('AQ score and experiment score', y=1.08);\n",
    "\n",
    "# Save plot\n",
    "plt.tight_layout()\n",
    "plt.savefig('exports/aq-vs-experiment.png', format='png', dpi=300)"
   ]
  },
  {
   "cell_type": "code",
   "execution_count": null,
   "metadata": {
    "collapsed": false
   },
   "outputs": [],
   "source": [
    "stats.spearmanr(AQvsScore['analogy_score'], AQvsScore['AQ_score'])"
   ]
  },
  {
   "cell_type": "markdown",
   "metadata": {},
   "source": [
    "# Is there an effect of age?"
   ]
  },
  {
   "cell_type": "code",
   "execution_count": null,
   "metadata": {
    "collapsed": false
   },
   "outputs": [],
   "source": [
    "ages = []\n",
    "for subject_id in df['subject_id']:\n",
    "    part = survey[survey['subject_id'] == subject_id]\n",
    "    if(len(part) != 0):\n",
    "        ages += [part.iloc[0,:]['age']]\n",
    "    else:\n",
    "        print(part)\n",
    "        aqs += [0]\n",
    "        \n",
    "df['age'] = ages"
   ]
  },
  {
   "cell_type": "code",
   "execution_count": null,
   "metadata": {
    "collapsed": false
   },
   "outputs": [],
   "source": [
    "AgevsScore = df.groupby('subject_id').mean()[['analogy_score', 'age']].sort_values(by='age')"
   ]
  },
  {
   "cell_type": "code",
   "execution_count": null,
   "metadata": {
    "collapsed": false
   },
   "outputs": [],
   "source": [
    "AgevsScore[AQvsScore['analogy_score'] < 3].plot(kind='scatter', x='age', y='analogy_score', \n",
    "                                               figsize=(5,3), yticks=[0,.5,1,1.5,2])\n",
    "plt.ylabel('Experiment score')\n",
    "plt.xlabel('age');\n",
    "plt.ylim(.2,2)\n",
    "\n",
    "# Title\n",
    "plt.title('AQ score and experiment score', y=1.08);\n",
    "\n",
    "# Save plot\n",
    "plt.tight_layout()\n",
    "# plt.savefig('exports/aq-vs-experiment.png', format='png', dpi=300)"
   ]
  },
  {
   "cell_type": "code",
   "execution_count": null,
   "metadata": {
    "collapsed": false
   },
   "outputs": [],
   "source": [
    "stats.spearmanr(AgevsScore['analogy_score'], AgevsScore['age'])"
   ]
  },
  {
   "cell_type": "markdown",
   "metadata": {},
   "source": [
    "# AQ effect for specific trials?"
   ]
  },
  {
   "cell_type": "code",
   "execution_count": null,
   "metadata": {
    "collapsed": false,
    "scrolled": false
   },
   "outputs": [],
   "source": [
    "for trial_type in ['KA','KB','KC','KD','MHA','MHB','MHC','MHD']:\n",
    "    test = df[df['trial_type'] == trial_type].groupby('subject_id').mean()[['analogy_score', 'AQ_score']]\n",
    "    print('Correlation for '+trial_type+': '+str(stats.spearmanr(test['AQ_score'], test['analogy_score'])))\n",
    "    print('Correlation for '+trial_type+': '+str(stats.pearsonr(test['AQ_score'], test['analogy_score'])))\n",
    "    \n",
    "    test[test['analogy_score'] < 3].plot(kind='scatter', x='AQ_score', y='analogy_score', \n",
    "                                               figsize=(5,3), yticks=[0,.5,1,1.5,2])\n",
    "    plt.ylabel('Experiment score')\n",
    "    plt.xlabel('AQ');\n",
    "    plt.ylim(.2,2)\n",
    "\n",
    "    # Title\n",
    "    plt.title('AQ score and experiment score in ' + trial_type, y=1.08);\n",
    "    plt.show()"
   ]
  },
  {
   "cell_type": "code",
   "execution_count": null,
   "metadata": {
    "collapsed": false
   },
   "outputs": [],
   "source": [
    "test = df[df['trial_type'] == 'KE'].groupby('subject_id').mean()[['analogy_score', 'AQ_score']]\n",
    "test[test['analogy_score'] < 3].plot(kind='scatter', x='AQ_score', y='analogy_score', \n",
    "                                               figsize=(5,3), yticks=[0,.5,1,1.5,2])"
   ]
  }
 ],
 "metadata": {
  "kernelspec": {
   "display_name": "Python 2",
   "language": "python",
   "name": "python2"
  },
  "language_info": {
   "codemirror_mode": {
    "name": "ipython",
    "version": 2
   },
   "file_extension": ".py",
   "mimetype": "text/x-python",
   "name": "python",
   "nbconvert_exporter": "python",
   "pygments_lexer": "ipython2",
   "version": "2.7.10"
  }
 },
 "nbformat": 4,
 "nbformat_minor": 0
}
