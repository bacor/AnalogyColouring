{
 "cells": [
  {
   "cell_type": "code",
   "execution_count": null,
   "metadata": {
    "collapsed": false
   },
   "outputs": [],
   "source": [
    "%load_ext autoreload\n",
    "%autoreload 2"
   ]
  },
  {
   "cell_type": "code",
   "execution_count": null,
   "metadata": {
    "collapsed": false
   },
   "outputs": [],
   "source": [
    "import pandas as pd\n",
    "import numpy as np\n",
    "import json\n",
    "from helpers import *\n",
    "import matplotlib.pyplot as plt\n",
    "%matplotlib inline\n",
    "plt.style.use('ggplot')\n",
    "plt.rcParams.update({'font.size': 8})\n",
    "import itertools\n",
    "codeToggler()"
   ]
  },
  {
   "cell_type": "code",
   "execution_count": null,
   "metadata": {
    "collapsed": false
   },
   "outputs": [],
   "source": [
    "(df, survey, objNames, trial_types) = loadData()"
   ]
  },
  {
   "cell_type": "markdown",
   "metadata": {},
   "source": [
    "# Correspondence-entropy"
   ]
  },
  {
   "cell_type": "code",
   "execution_count": null,
   "metadata": {
    "collapsed": false
   },
   "outputs": [],
   "source": [
    "test_entropies = {}\n",
    "for trial_type in trial_types:\n",
    "    entropy = correspondenceEntropies(trial_type[0], trial_type[1], df, objNames)\n",
    "    test_entropies[trial_type[1]] = list(entropy.values)\n",
    "test_entropies;"
   ]
  },
  {
   "cell_type": "code",
   "execution_count": null,
   "metadata": {
    "collapsed": false
   },
   "outputs": [],
   "source": [
    "instr_entropies = {}\n",
    "for trial_type in trial_types:\n",
    "    frequencies = []\n",
    "    test = df[df['trial_type'] == trial_type[0][:-1]]\n",
    "    \n",
    "    for j in range(len(objNames[trial_type[0]])):\n",
    "        j_frequencies = [0] * (len(objNames[trial_type[1]]) + 1)\n",
    "\n",
    "        # Check all analogies and how often things correspond to j\n",
    "        for i, row in test.iterrows():\n",
    "            analogy = row['analogies']\n",
    "            try:\n",
    "                index = analogy.index(j)\n",
    "            except:\n",
    "                index = -1\n",
    "            j_frequencies[index] += 1\n",
    "        frequencies += [j_frequencies]\n",
    "    frequencies = pd.DataFrame(frequencies, index = objNames[trial_type[0]], columns = objNames[trial_type[1]] + ['None'])\n",
    "    p = frequencies / frequencies.sum(axis=1)[0]\n",
    "    entropy = (p * -np.log(p)).fillna(0).sum(axis=1);\n",
    "    instr_entropies[trial_type[0]] = list(entropy.values)\n",
    "instr_entropies;"
   ]
  },
  {
   "cell_type": "code",
   "execution_count": null,
   "metadata": {
    "collapsed": false,
    "scrolled": true
   },
   "outputs": [],
   "source": [
    "# Combine\n",
    "entropies = test_entropies.copy()\n",
    "entropies.update(instr_entropies)\n",
    "json.dumps(entropies)"
   ]
  },
  {
   "cell_type": "code",
   "execution_count": null,
   "metadata": {
    "collapsed": true
   },
   "outputs": [],
   "source": []
  }
 ],
 "metadata": {
  "kernelspec": {
   "display_name": "Python 2",
   "language": "python",
   "name": "python2"
  },
  "language_info": {
   "codemirror_mode": {
    "name": "ipython",
    "version": 2
   },
   "file_extension": ".py",
   "mimetype": "text/x-python",
   "name": "python",
   "nbconvert_exporter": "python",
   "pygments_lexer": "ipython2",
   "version": "2.7.10"
  }
 },
 "nbformat": 4,
 "nbformat_minor": 0
}
